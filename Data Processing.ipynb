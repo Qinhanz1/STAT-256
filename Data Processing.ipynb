{
 "cells": [
  {
   "cell_type": "code",
   "execution_count": 39,
   "metadata": {},
   "outputs": [],
   "source": [
    "import pandas as pd\n",
    "import numpy as np\n",
    "import matplotlib.pyplot as plt\n",
    "from sklearn.linear_model import LogisticRegression\n",
    "from sklearn.ensemble import RandomForestClassifier, RandomForestRegressor\n",
    "import seaborn as sns"
   ]
  },
  {
   "cell_type": "code",
   "execution_count": 40,
   "metadata": {},
   "outputs": [
    {
     "name": "stdout",
     "output_type": "stream",
     "text": [
      "ADMISSIONS: (45000, 5)\n",
      "PATIENTS: (45000, 3)\n",
      "ICUSTAYS: (45000, 5)\n",
      "PRESCRIPTIONS: (45000, 4)\n",
      "CHARTEVENTS: (45000, 5)\n",
      "LABEVENTS: (45000, 5)\n",
      "OUTPUTEVENTS: (45000, 5)\n"
     ]
    }
   ],
   "source": [
    "# Select necessary columns and limit to the first 45,000 rows for each dataset\n",
    "folder_path = \"/Users/qinhan/Downloads/mimic-iii-clinical-database-1.4\"\n",
    "admissions = pd.read_csv(\n",
    "    f'{folder_path}/ADMISSIONS.csv',\n",
    "    usecols=['SUBJECT_ID', 'HADM_ID', 'ADMITTIME', 'DISCHTIME', 'HOSPITAL_EXPIRE_FLAG'],\n",
    "    nrows=45000\n",
    ")\n",
    "\n",
    "patients = pd.read_csv(\n",
    "    f'{folder_path}/PATIENTS.csv',\n",
    "    usecols=['SUBJECT_ID', 'GENDER', 'DOB'],\n",
    "    nrows=45000\n",
    ")\n",
    "\n",
    "icustays = pd.read_csv(\n",
    "    f'{folder_path}/ICUSTAYS.csv',\n",
    "    usecols=['SUBJECT_ID', 'HADM_ID', 'ICUSTAY_ID', 'INTIME', 'OUTTIME'],\n",
    "    nrows=45000\n",
    ")\n",
    "\n",
    "prescriptions = pd.read_csv(\n",
    "    f'{folder_path}/PRESCRIPTIONS.csv',\n",
    "    usecols=['HADM_ID', 'DRUG', 'STARTDATE', 'ENDDATE'],\n",
    "    nrows=45000\n",
    ")\n",
    "\n",
    "chartevents = pd.read_csv(\n",
    "    f'{folder_path}/CHARTEVENTS.csv',\n",
    "    usecols=['SUBJECT_ID', 'HADM_ID', 'ITEMID', 'VALUENUM', 'CHARTTIME'],\n",
    "    nrows=45000\n",
    ")\n",
    "\n",
    "labevents = pd.read_csv(\n",
    "    f'{folder_path}/LABEVENTS.csv',\n",
    "    usecols=['SUBJECT_ID', 'HADM_ID', 'ITEMID', 'VALUENUM', 'CHARTTIME'],\n",
    "    nrows=45000\n",
    ")\n",
    "\n",
    "outputevents = pd.read_csv(\n",
    "    f'{folder_path}/OUTPUTEVENTS.csv',\n",
    "    usecols=['SUBJECT_ID', 'HADM_ID', 'ITEMID', 'VALUE', 'CHARTTIME'],\n",
    "    nrows=45000\n",
    ")\n",
    "\n",
    "print(\"ADMISSIONS:\", admissions.shape)\n",
    "print(\"PATIENTS:\", patients.shape)\n",
    "print(\"ICUSTAYS:\", icustays.shape)\n",
    "print(\"PRESCRIPTIONS:\", prescriptions.shape)\n",
    "print(\"CHARTEVENTS:\", chartevents.shape)\n",
    "print(\"LABEVENTS:\", labevents.shape)\n",
    "print(\"OUTPUTEVENTS:\", outputevents.shape)\n"
   ]
  },
  {
   "cell_type": "code",
   "execution_count": 41,
   "metadata": {},
   "outputs": [
    {
     "name": "stdout",
     "output_type": "stream",
     "text": [
      "       ITEMID                                     LABEL\n",
      "9314   224167       Manual Blood Pressure Systolic Left\n",
      "9441   227242     Manual Blood Pressure Diastolic Right\n",
      "9442   227243      Manual Blood Pressure Systolic Right\n",
      "9578   223751  Non-Invasive Blood Pressure Alarm - High\n",
      "10261  227537           ART Blood Pressure Alarm - High\n",
      "10262  227538            ART Blood Pressure Alarm - Low\n",
      "10263  227539           ART Blood Pressure Alarm Source\n",
      "11323  224643      Manual Blood Pressure Diastolic Left\n",
      "11502  220050          Arterial Blood Pressure systolic\n",
      "11503  220051         Arterial Blood Pressure diastolic\n",
      "11504  220052              Arterial Blood Pressure mean\n",
      "11505  220056       Arterial Blood Pressure Alarm - Low\n",
      "11506  220058      Arterial Blood Pressure Alarm - High\n",
      "11520  220179      Non Invasive Blood Pressure systolic\n",
      "11521  220180     Non Invasive Blood Pressure diastolic\n",
      "11522  220181          Non Invasive Blood Pressure mean\n",
      "12360  223752   Non-Invasive Blood Pressure Alarm - Low\n"
     ]
    }
   ],
   "source": [
    "# Keywords to search\n",
    "search_keyword = \"blood pressure\"\n",
    "d_items = pd.read_csv('/Users/qinhan/Downloads/mimic-iii-clinical-database-1.4/D_ITEMS.csv', usecols=['ITEMID', 'LABEL'])\n",
    "filtered_items = d_items[d_items['LABEL'].str.contains(search_keyword, case=False, na=False)]\n",
    "print(filtered_items)"
   ]
  },
  {
   "cell_type": "code",
   "execution_count": 42,
   "metadata": {},
   "outputs": [],
   "source": [
    "# Combine datasets\n",
    "# Step 1: Convert datetimes\n",
    "admissions['ADMITTIME'] = pd.to_datetime(admissions['ADMITTIME'])\n",
    "admissions['DISCHTIME'] = pd.to_datetime(admissions['DISCHTIME'])\n",
    "icustays['INTIME'] = pd.to_datetime(icustays['INTIME'])\n",
    "icustays['OUTTIME'] = pd.to_datetime(icustays['OUTTIME'])\n",
    "prescriptions['STARTDATE'] = pd.to_datetime(prescriptions['STARTDATE'])\n",
    "prescriptions['ENDDATE'] = pd.to_datetime(prescriptions['ENDDATE'])\n",
    "chartevents['CHARTTIME'] = pd.to_datetime(chartevents['CHARTTIME'])\n",
    "\n",
    "# # Step 2: Filter ICU patients\n",
    "# icu_admissions = admissions[admissions['HADM_ID'].isin(icustays['HADM_ID'])]\n",
    "\n",
    "# # Step 3: Define treatment (Vasopress)\n",
    "# treatment_drug = 'Vasopress'  # Replace with the actual drug name\n",
    "# treated_patients = prescriptions[prescriptions['DRUG'].str.contains(treatment_drug, na=False, case=False)]\n",
    "\n",
    "# # Step 4: Define outcome (Mortality)\n",
    "# icu_admissions = icu_admissions.merge(icustays[['HADM_ID', 'ICUSTAY_ID', 'INTIME', 'OUTTIME']], on='HADM_ID', how='inner')\n",
    "\n",
    "# # Step 5: Define confounder (Blood Pressure)\n",
    "# confounder_itemid = 220050\n",
    "# confounders = chartevents[chartevents['ITEMID'] == confounder_itemid]\n",
    "\n",
    "# # Step 6: Merge treatment and confounders with ICU stays\n",
    "# # Merge treatment\n",
    "# merged_data = icu_admissions.merge(treated_patients[['HADM_ID', 'STARTDATE', 'ENDDATE']], on='HADM_ID', how='left')\n",
    "# # Merge confounder\n",
    "# merged_data = merged_data.merge(confounders[['HADM_ID', 'CHARTTIME', 'VALUENUM']], on='HADM_ID', how='left')\n",
    "\n",
    "# # Step 7: Restrict to ICU period\n",
    "# merged_data = merged_data[\n",
    "#     (merged_data['CHARTTIME'] >= merged_data['INTIME']) &\n",
    "#     (merged_data['CHARTTIME'] <= merged_data['OUTTIME'])\n",
    "# ]\n",
    "\n",
    "# # Rename columns\n",
    "# merged_data.rename(columns={\n",
    "#     'VALUENUM': 'Systolic_Blood_Pressure',\n",
    "#     'HOSPITAL_EXPIRE_FLAG': 'Mortality',\n",
    "#     'STARTDATE': 'Treatment_Start',\n",
    "#     'ENDDATE': 'Treatment_End'\n",
    "# }, inplace=True)\n",
    "\n",
    "# # Display the first few rows\n",
    "# print(merged_data.head())\n",
    "\n",
    "# # Save the processed data for later analysis\n",
    "# merged_data.to_csv('processed_mimic_data.csv', index=False)\n"
   ]
  },
  {
   "cell_type": "code",
   "execution_count": 43,
   "metadata": {},
   "outputs": [
    {
     "name": "stdout",
     "output_type": "stream",
     "text": [
      "   SUBJECT_ID  HADM_ID  ITEMID           CHARTTIME  VALUENUM\n",
      "0          23   124321  220050 2157-10-22 11:00:00     128.0\n",
      "1          23   124321  220050 2157-10-22 12:00:00     144.0\n",
      "2          23   124321  220050 2157-10-22 13:00:00     118.0\n",
      "3          23   124321  220050 2157-10-22 14:00:00     124.0\n",
      "4          23   124321  220050 2157-10-22 15:00:00     135.0\n"
     ]
    }
   ],
   "source": [
    "# Initialize an empty DataFrame to store results\n",
    "filtered_chartevents = pd.DataFrame()\n",
    "\n",
    "# Use chunks to process CHARTEVENTS\n",
    "chunk_size = 50000\n",
    "for chunk in pd.read_csv('/Users/qinhan/Downloads/mimic-iii-clinical-database-1.4/CHARTEVENTS.csv', usecols=['SUBJECT_ID', 'HADM_ID', 'ITEMID', 'VALUENUM', 'CHARTTIME'], chunksize=chunk_size):\n",
    "    # Filter for systolic blood pressure (220050)\n",
    "    chunk_filtered = chunk[chunk['ITEMID'] == 220050]\n",
    "    filtered_chartevents = pd.concat([filtered_chartevents, chunk_filtered], ignore_index=True)\n",
    "\n",
    "# Convert CHARTTIME to datetime\n",
    "filtered_chartevents['CHARTTIME'] = pd.to_datetime(filtered_chartevents['CHARTTIME'])\n",
    "\n",
    "# Save the filtered data for later use\n",
    "filtered_chartevents.to_csv('systolic_blood_pressure.csv', index=False)\n",
    "\n",
    "# Display the first few rows\n",
    "print(filtered_chartevents.head())"
   ]
  },
  {
   "cell_type": "code",
   "execution_count": 44,
   "metadata": {},
   "outputs": [
    {
     "name": "stdout",
     "output_type": "stream",
     "text": [
      "   SUBJECT_ID  HADM_ID  ITEMID           CHARTTIME  Systolic_BP  ICUSTAY_ID  \\\n",
      "0          23   124321  220050 2157-10-22 11:00:00        128.0      234044   \n",
      "1          23   124321  220050 2157-10-22 11:00:00        128.0      234044   \n",
      "2          23   124321  220050 2157-10-22 11:00:00        128.0      234044   \n",
      "3          23   124321  220050 2157-10-22 11:00:00        128.0      234044   \n",
      "4          23   124321  220050 2157-10-22 11:00:00        128.0      234044   \n",
      "\n",
      "               INTIME             OUTTIME Treatment_Start Treatment_End  \\\n",
      "0 2157-10-21 11:40:38 2157-10-22 16:08:48      2157-10-21    2157-10-22   \n",
      "1 2157-10-21 11:40:38 2157-10-22 16:08:48      2157-10-21    2157-10-22   \n",
      "2 2157-10-21 11:40:38 2157-10-22 16:08:48      2157-10-21    2157-10-22   \n",
      "3 2157-10-21 11:40:38 2157-10-22 16:08:48      2157-10-21    2157-10-22   \n",
      "4 2157-10-21 11:40:38 2157-10-22 16:08:48      2157-10-21    2157-10-22   \n",
      "\n",
      "                   DRUG  Mortality  Treatment                Hour  \n",
      "0                    SW        0.0          1 2157-10-22 11:00:00  \n",
      "1                    SW        0.0          1 2157-10-22 11:00:00  \n",
      "2                    SW        0.0          1 2157-10-22 11:00:00  \n",
      "3  0.9% Sodium Chloride        0.0          1 2157-10-22 11:00:00  \n",
      "4  0.9% Sodium Chloride        0.0          1 2157-10-22 11:00:00  \n"
     ]
    }
   ],
   "source": [
    "systolic_bp = pd.read_csv('systolic_blood_pressure.csv', parse_dates=['CHARTTIME'])\n",
    "\n",
    "# Ensure ICU stay times are in datetime format\n",
    "icustays['INTIME'] = pd.to_datetime(icustays['INTIME'])\n",
    "icustays['OUTTIME'] = pd.to_datetime(icustays['OUTTIME'])\n",
    "\n",
    "# Step 1: Merge systolic blood pressure with ICU stays based on HADM_ID\n",
    "bp_merged = systolic_bp.merge(icustays[['HADM_ID', 'ICUSTAY_ID', 'INTIME', 'OUTTIME']], on='HADM_ID', how='inner')\n",
    "\n",
    "# Step 2: Filter systolic blood pressure during ICU stays\n",
    "bp_merged = bp_merged[(bp_merged['CHARTTIME'] >= bp_merged['INTIME']) & (bp_merged['CHARTTIME'] <= bp_merged['OUTTIME'])]\n",
    "\n",
    "# Step 3: Merge with treatment data (vasopress)\n",
    "final_data = bp_merged.merge(prescriptions[['HADM_ID', 'STARTDATE', 'ENDDATE', 'DRUG']], on='HADM_ID', how='left')\n",
    "\n",
    "# Step 4: Merge with outcome data\n",
    "final_data = final_data.merge(admissions[['HADM_ID', 'HOSPITAL_EXPIRE_FLAG']], on='HADM_ID', how='left')\n",
    "\n",
    "# Rename columns\n",
    "final_data.rename(columns={\n",
    "'VALUENUM': 'Systolic_BP',\n",
    "    'HOSPITAL_EXPIRE_FLAG': 'Mortality',\n",
    "    'STARTDATE': 'Treatment_Start',\n",
    "    'ENDDATE': 'Treatment_End'\n",
    "}, inplace=True)\n",
    "\n",
    "# Step 5: Handle missing values\n",
    "final_data.dropna(subset=['Systolic_BP'], inplace=True)\n",
    "\n",
    "# Fill missing Treatment_Start and Treatment_End with placeholder values\n",
    "# Placeholder: ICU admission or discharge time\n",
    "final_data['Treatment_Start'] = final_data['Treatment_Start'].fillna(final_data['INTIME'])\n",
    "final_data['Treatment_End'] = final_data['Treatment_End'].fillna(final_data['OUTTIME'])\n",
    "\n",
    "# Fill missing DRUG with \"No Treatment\"\n",
    "final_data['DRUG'] = final_data['DRUG'].fillna(\"No Treatment\")\n",
    "\n",
    "# Create a binary treatment indicator\n",
    "final_data['Treatment'] = np.where(final_data['DRUG'] == \"No Treatment\", 0, 1)\n",
    "\n",
    "treated = final_data[final_data['Treatment'] == 1]\n",
    "untreated = final_data[final_data['Treatment'] == 0]\n",
    "\n",
    "# Define biologically plausible range for systolic BP\n",
    "final_data = final_data[\n",
    "    (final_data['Systolic_BP'] >= 30) & \n",
    "    (final_data['Systolic_BP'] <= 300)\n",
    "]\n",
    "\n",
    "# Convert CHARTTIME to hourly intervals\n",
    "final_data['Hour'] = final_data['CHARTTIME'].dt.floor('H')\n",
    "\n",
    "# final_data.to_csv('final_dataset.csv', index=False)\n",
    "\n",
    "# Display the first few rows of the final dataset\n",
    "print(final_data.head())"
   ]
  },
  {
   "cell_type": "code",
   "execution_count": 33,
   "metadata": {},
   "outputs": [
    {
     "name": "stdout",
     "output_type": "stream",
     "text": [
      "498974\n",
      "   SUBJECT_ID  ICUSTAY_ID                Hour  Avg_Systolic_BP  Treatment  \\\n",
      "0          23      234044 2157-10-21 12:00:00            181.0          1   \n",
      "1          23      234044 2157-10-21 13:00:00            133.0          1   \n",
      "2          23      234044 2157-10-21 14:00:00            132.0          1   \n",
      "3          23      234044 2157-10-21 15:00:00            145.0          1   \n",
      "4          23      234044 2157-10-21 16:00:00            152.0          1   \n",
      "\n",
      "   Mortality  \n",
      "0        0.0  \n",
      "1        0.0  \n",
      "2        0.0  \n",
      "3        0.0  \n",
      "4        0.0  \n"
     ]
    }
   ],
   "source": [
    "# Count the number of treatments started within the ICU period\n",
    "treated_within_icu = final_data[\n",
    "    (final_data['Treatment_Start'] >= final_data['INTIME']) &\n",
    "    (final_data['Treatment_Start'] <= final_data['OUTTIME'])\n",
    "]\n",
    "print(len(treated_within_icu))\n",
    "\n",
    "# Ensure CHARTTIME is in datetime format\n",
    "final_data['CHARTTIME'] = pd.to_datetime(final_data['CHARTTIME'])\n",
    "\n",
    "# Step 1: Aggregate systolic BP by hour for each patient\n",
    "final_data['Hour'] = final_data['CHARTTIME'].dt.floor('H')  # Round to hourly intervals\n",
    "time_agg = final_data.groupby(['SUBJECT_ID', 'ICUSTAY_ID', 'Hour']).agg({\n",
    "    'Systolic_BP': 'mean',       # Average systolic BP for the hour\n",
    "    'Treatment': 'max',          # Binary treatment indicator\n",
    "    'Mortality': 'max'           # Mortality remains constant\n",
    "}).reset_index()\n",
    "\n",
    "# Rename columns for clarity\n",
    "time_agg.rename(columns={'Systolic_BP': 'Avg_Systolic_BP'}, inplace=True)\n",
    "\n",
    "# time_agg.to_csv('time_agg.csv', index=False)\n",
    "\n",
    "# Check the structure of the aggregated dataset\n",
    "print(time_agg.head())\n"
   ]
  },
  {
   "cell_type": "code",
   "execution_count": 46,
   "metadata": {},
   "outputs": [
    {
     "name": "stdout",
     "output_type": "stream",
     "text": [
      "0    217215\n",
      "1      1185\n",
      "Name: Treatment, dtype: int64\n"
     ]
    }
   ],
   "source": [
    "print(time_agg['Treatment'].value_counts())"
   ]
  },
  {
   "cell_type": "code",
   "execution_count": 47,
   "metadata": {},
   "outputs": [
    {
     "name": "stdout",
     "output_type": "stream",
     "text": [
      "Mortality Rates by Treatment:\n",
      "Treatment\n",
      "0    0.220776\n",
      "1    0.508861\n",
      "Name: Mortality, dtype: float64\n"
     ]
    },
    {
     "name": "stderr",
     "output_type": "stream",
     "text": [
      "/var/folders/mm/_hs3v3s144d18tkpjqfx_91m0000gn/T/ipykernel_26599/2742880158.py:7: FutureWarning: \n",
      "\n",
      "Passing `palette` without assigning `hue` is deprecated and will be removed in v0.14.0. Assign the `x` variable to `hue` and set `legend=False` for the same effect.\n",
      "\n",
      "  sns.barplot(x=['Untreated', 'Treated'], y=mortality_by_treatment.values, palette='pastel')\n"
     ]
    },
    {
     "data": {
      "image/png": "[encoded data removed]",
      "text/plain": [
       "<Figure size 640x480 with 1 Axes>"
      ]
     },
     "metadata": {},
     "output_type": "display_data"
    }
   ],
   "source": [
    "# Mortality rates for treated vs. untreated\n",
    "mortality_by_treatment = time_agg.groupby('Treatment')['Mortality'].mean()\n",
    "print(\"Mortality Rates by Treatment:\")\n",
    "print(mortality_by_treatment)\n",
    "\n",
    "# Barplot of mortality rates\n",
    "sns.barplot(x=['Untreated', 'Treated'], y=mortality_by_treatment.values, palette='pastel')\n",
    "plt.title('Mortality Rates by Treatment Group')\n",
    "plt.ylabel('Mortality Rate')\n",
    "plt.show()\n"
   ]
  },
  {
   "cell_type": "code",
   "execution_count": 37,
   "metadata": {},
   "outputs": [
    {
     "data": {
      "image/png": "[encoded data removed]",
      "text/plain": [
       "<Figure size 640x480 with 1 Axes>"
      ]
     },
     "metadata": {},
     "output_type": "display_data"
    }
   ],
   "source": [
    "# Systolic BP trends by treatment over time\n",
    "bp_trends = time_agg.groupby(['Hour', 'Treatment'])['Avg_Systolic_BP'].mean().reset_index()\n",
    "\n",
    "# Lineplot for systolic BP trends\n",
    "sns.lineplot(data=bp_trends, x='Hour', y='Avg_Systolic_BP', hue='Treatment', palette=['blue', 'orange'])\n",
    "plt.title('Systolic Blood Pressure Trends by Treatment Group')\n",
    "plt.ylabel('Average Systolic BP (mmHg)')\n",
    "plt.xlabel('Hour')\n",
    "plt.legend(labels=['Untreated', 'Treated'])\n",
    "plt.show()\n"
   ]
  },
  {
   "cell_type": "code",
   "execution_count": 48,
   "metadata": {},
   "outputs": [
    {
     "name": "stdout",
     "output_type": "stream",
     "text": [
      "Treated group size: 1185\n",
      "Untreated group size: 217215\n",
      "Balanced dataset size: 2370\n",
      "New treated group size: 1185\n",
      "New untreated group size: 1185\n",
      "Balanced dataset saved as 'balanced_time_agg.csv'\n"
     ]
    }
   ],
   "source": [
    "# Define the outcome and treatment variables\n",
    "outcome = 'Mortality'  # Replace with the actual column name for outcome\n",
    "treatment = 'Treatment'  # Replace with the actual column name for treatment\n",
    "\n",
    "# Separate the treated and untreated groups\n",
    "treated = time_agg[time_agg[treatment] == 1]\n",
    "untreated = time_agg[time_agg[treatment] == 0]\n",
    "\n",
    "# Check the sizes of both groups\n",
    "print(f\"Treated group size: {len(treated)}\")\n",
    "print(f\"Untreated group size: {len(untreated)}\")\n",
    "\n",
    "# Undersample the untreated group to match the size of the treated group\n",
    "undersampled_untreated = untreated.sample(n=len(treated), random_state=42)\n",
    "\n",
    "# Combine the treated group and the undersampled untreated group\n",
    "balanced_data = pd.concat([treated, undersampled_untreated])\n",
    "\n",
    "# Shuffle the combined dataset\n",
    "balanced_data = balanced_data.sample(frac=1, random_state=42).reset_index(drop=True)\n",
    "\n",
    "# Check the new group sizes\n",
    "print(f\"Balanced dataset size: {len(balanced_data)}\")\n",
    "print(f\"New treated group size: {len(balanced_data[balanced_data[treatment] == 1])}\")\n",
    "print(f\"New untreated group size: {len(balanced_data[balanced_data[treatment] == 0])}\")\n",
    "\n",
    "valid_values = [0, 1]\n",
    "balanced_data = balanced_data[balanced_data[outcome].isin(valid_values)]\n",
    "\n",
    "# Save the balanced dataset if needed\n",
    "balanced_data.to_csv('balanced_time_agg.csv', index=False)\n",
    "\n",
    "print(\"Balanced dataset saved as 'balanced_time_agg.csv'\")\n"
   ]
  },
  {
   "cell_type": "code",
   "execution_count": null,
   "metadata": {},
   "outputs": [],
   "source": []
  }
 ],
 "metadata": {
  "kernelspec": {
   "display_name": "Python 3",
   "language": "python",
   "name": "python3"
  },
  "language_info": {
   "codemirror_mode": {
    "name": "ipython",
    "version": 3
   },
   "file_extension": ".py",
   "mimetype": "text/x-python",
   "name": "python",
   "nbconvert_exporter": "python",
   "pygments_lexer": "ipython3",
   "version": "3.12.3"
  }
 },
 "nbformat": 4,
 "nbformat_minor": 2
}
